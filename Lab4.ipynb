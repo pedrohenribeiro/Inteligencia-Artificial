{
 "cells": [
  {
   "cell_type": "code",
   "execution_count": null,
   "id": "58e15edb",
   "metadata": {},
   "outputs": [
    {
     "ename": "ModuleNotFoundError",
     "evalue": "No module named 'sklearn'",
     "output_type": "error",
     "traceback": [
      "\u001b[31m---------------------------------------------------------------------------\u001b[39m",
      "\u001b[31mModuleNotFoundError\u001b[39m                       Traceback (most recent call last)",
      "\u001b[36mCell\u001b[39m\u001b[36m \u001b[39m\u001b[32mIn[1]\u001b[39m\u001b[32m, line 4\u001b[39m\n\u001b[32m      1\u001b[39m \u001b[38;5;66;03m# Importação de Bibliotecas\u001b[39;00m\n\u001b[32m      3\u001b[39m \u001b[38;5;28;01mimport\u001b[39;00m\u001b[38;5;250m \u001b[39m\u001b[34;01mpandas\u001b[39;00m\u001b[38;5;250m \u001b[39m\u001b[38;5;28;01mas\u001b[39;00m\u001b[38;5;250m \u001b[39m\u001b[34;01mpd\u001b[39;00m\n\u001b[32m----> \u001b[39m\u001b[32m4\u001b[39m \u001b[38;5;28;01mfrom\u001b[39;00m\u001b[38;5;250m \u001b[39m\u001b[34;01msklearn\u001b[39;00m\u001b[38;5;250m \u001b[39m\u001b[38;5;28;01mimport\u001b[39;00m datasets, linear_model\n\u001b[32m      5\u001b[39m \u001b[38;5;28;01mfrom\u001b[39;00m\u001b[38;5;250m \u001b[39m\u001b[34;01mmatplotlib\u001b[39;00m\u001b[38;5;250m \u001b[39m\u001b[38;5;28;01mimport\u001b[39;00m pyplot \u001b[38;5;28;01mas\u001b[39;00m plt\n\u001b[32m      6\u001b[39m \u001b[38;5;28;01mimport\u001b[39;00m\u001b[38;5;250m \u001b[39m\u001b[34;01mnumpy\u001b[39;00m\u001b[38;5;250m \u001b[39m\u001b[38;5;28;01mas\u001b[39;00m\u001b[38;5;250m \u001b[39m\u001b[34;01mnp\u001b[39;00m\n",
      "\u001b[31mModuleNotFoundError\u001b[39m: No module named 'sklearn'"
     ]
    }
   ],
   "source": [
    "# PLN com Embedding em VectorDB\n",
    "\n",
    "# Bibliotecas para PLN\n",
    "\n",
    "# Para chunks e embeddings\n",
    "from langchain.text_splitter import RecursiveCharacterTextSplitter # pip install langchain\n",
    "from sentence_transformers import SentenceTransformer # pip install sentence_transformers\n",
    "\n",
    "# Para leitura de PDF\n",
    "import pdfplumber # pip install pdfplumber\n",
    "\n",
    "# Para tratamento de texto\n",
    "import re\n",
    "import spacy # python -m spacy download pt_core_news_sm\n",
    "import nltk # pip install nltk\n",
    "from nltk.corpus import stopwords\n",
    "# Baixando dados do NLTK necessários (se ainda não tiver)\n",
    "# nltk.download('stopwords') # rodar apenas uma vez\n",
    "\n",
    "\n",
    "# Bibliotecas para Banco de Dados Vetorial (Vector Database)\n",
    "import chromadb\n",
    "from langchain_chroma import Chroma\n"
   ]
  },
  {
   "cell_type": "code",
   "execution_count": null,
   "id": "eab36372",
   "metadata": {},
   "outputs": [],
   "source": [
    "# Leitura de Dataset - Diabetes, do SKLearn\n",
    "\n",
    "columns = \"age sex bmi bp tc ldl hdl tch ltg glu\".split() # Declara os nomes das colunas\n",
    "diabetes = datasets.load_diabetes() # Carrega o dataset diabetes de sklearn\n"
   ]
  },
  {
   "cell_type": "code",
   "execution_count": null,
   "id": "0805846a",
   "metadata": {},
   "outputs": [],
   "source": [
    "df = pd.DataFrame(diabetes.data, columns=columns) # Carrega o dataset como um data frame\n",
    "y = diabetes.target # define a variavel target variable (varivavel dependente, no modelo de regressão)\n"
   ]
  },
  {
   "cell_type": "code",
   "execution_count": null,
   "id": "00a68db7",
   "metadata": {},
   "outputs": [],
   "source": [
    "# Treinamento e Testes - Estratégia: Train/Test Split (20% para Testes)\n",
    "\n",
    "X_train, X_test, y_train, y_test = train_test_split(df, y, test_size=0.2)\n",
    "print (X_train.shape, y_train.shape)\n",
    "print (X_test.shape, y_test.shape)\n"
   ]
  }
 ],
 "metadata": {
  "kernelspec": {
   "display_name": "venv",
   "language": "python",
   "name": "python3"
  },
  "language_info": {
   "codemirror_mode": {
    "name": "ipython",
    "version": 3
   },
   "file_extension": ".py",
   "mimetype": "text/x-python",
   "name": "python",
   "nbconvert_exporter": "python",
   "pygments_lexer": "ipython3",
   "version": "3.13.2"
  }
 },
 "nbformat": 4,
 "nbformat_minor": 5
}
